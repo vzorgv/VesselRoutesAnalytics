{
 "cells": [
  {
   "cell_type": "code",
   "execution_count": 1,
   "metadata": {},
   "outputs": [],
   "source": [
    "import pandas as pd\n",
    "import json\n",
    "import seaborn as sb"
   ]
  },
  {
   "cell_type": "code",
   "execution_count": 2,
   "metadata": {},
   "outputs": [],
   "source": [
    "file_name = \"DEBRV_DEHAM_historical_routes.csv\""
   ]
  },
  {
   "cell_type": "code",
   "execution_count": 3,
   "metadata": {},
   "outputs": [
    {
     "data": {
      "text/html": [
       "<div>\n",
       "<style scoped>\n",
       "    .dataframe tbody tr th:only-of-type {\n",
       "        vertical-align: middle;\n",
       "    }\n",
       "\n",
       "    .dataframe tbody tr th {\n",
       "        vertical-align: top;\n",
       "    }\n",
       "\n",
       "    .dataframe thead th {\n",
       "        text-align: right;\n",
       "    }\n",
       "</style>\n",
       "<table border=\"1\" class=\"dataframe\">\n",
       "  <thead>\n",
       "    <tr style=\"text-align: right;\">\n",
       "      <th></th>\n",
       "      <th>id</th>\n",
       "      <th>from_seq</th>\n",
       "      <th>to_seq</th>\n",
       "      <th>from_port</th>\n",
       "      <th>to_port</th>\n",
       "      <th>leg_duration</th>\n",
       "      <th>count</th>\n",
       "      <th>points</th>\n",
       "    </tr>\n",
       "  </thead>\n",
       "  <tbody>\n",
       "    <tr>\n",
       "      <th>0</th>\n",
       "      <td>imo_9462794</td>\n",
       "      <td>127</td>\n",
       "      <td>128</td>\n",
       "      <td>DEBRV</td>\n",
       "      <td>DEHAM</td>\n",
       "      <td>36406308</td>\n",
       "      <td>135</td>\n",
       "      <td>[[8.489074, 53.615707, 1509423228430, 14.0], [...</td>\n",
       "    </tr>\n",
       "    <tr>\n",
       "      <th>1</th>\n",
       "      <td>imo_9454230</td>\n",
       "      <td>196</td>\n",
       "      <td>197</td>\n",
       "      <td>DEBRV</td>\n",
       "      <td>DEHAM</td>\n",
       "      <td>37389167</td>\n",
       "      <td>155</td>\n",
       "      <td>[[8.48967, 53.614338, 1507290057531, 12.5], [8...</td>\n",
       "    </tr>\n",
       "    <tr>\n",
       "      <th>2</th>\n",
       "      <td>imo_9454230</td>\n",
       "      <td>241</td>\n",
       "      <td>242</td>\n",
       "      <td>DEBRV</td>\n",
       "      <td>DEHAM</td>\n",
       "      <td>35623991</td>\n",
       "      <td>196</td>\n",
       "      <td>[[8.499015, 53.60522, 1509682757817, 15.9], [8...</td>\n",
       "    </tr>\n",
       "    <tr>\n",
       "      <th>3</th>\n",
       "      <td>imo_9372200</td>\n",
       "      <td>150</td>\n",
       "      <td>151</td>\n",
       "      <td>DEBRV</td>\n",
       "      <td>DEHAM</td>\n",
       "      <td>34345681</td>\n",
       "      <td>156</td>\n",
       "      <td>[[8.495334, 53.609833, 1511932247447, 11.2], [...</td>\n",
       "    </tr>\n",
       "    <tr>\n",
       "      <th>4</th>\n",
       "      <td>imo_9376048</td>\n",
       "      <td>116</td>\n",
       "      <td>117</td>\n",
       "      <td>DEHAM</td>\n",
       "      <td>DEBRV</td>\n",
       "      <td>32515761</td>\n",
       "      <td>189</td>\n",
       "      <td>[[9.915167, 53.542168, 1508734759773, 7.6], [9...</td>\n",
       "    </tr>\n",
       "  </tbody>\n",
       "</table>\n",
       "</div>"
      ],
      "text/plain": [
       "            id  from_seq  to_seq from_port to_port  leg_duration  count  \\\n",
       "0  imo_9462794       127     128     DEBRV   DEHAM      36406308    135   \n",
       "1  imo_9454230       196     197     DEBRV   DEHAM      37389167    155   \n",
       "2  imo_9454230       241     242     DEBRV   DEHAM      35623991    196   \n",
       "3  imo_9372200       150     151     DEBRV   DEHAM      34345681    156   \n",
       "4  imo_9376048       116     117     DEHAM   DEBRV      32515761    189   \n",
       "\n",
       "                                              points  \n",
       "0  [[8.489074, 53.615707, 1509423228430, 14.0], [...  \n",
       "1  [[8.48967, 53.614338, 1507290057531, 12.5], [8...  \n",
       "2  [[8.499015, 53.60522, 1509682757817, 15.9], [8...  \n",
       "3  [[8.495334, 53.609833, 1511932247447, 11.2], [...  \n",
       "4  [[9.915167, 53.542168, 1508734759773, 7.6], [9...  "
      ]
     },
     "execution_count": 3,
     "metadata": {},
     "output_type": "execute_result"
    }
   ],
   "source": [
    "raw_data = pd.read_csv(file_name)\n",
    "raw_data.head()"
   ]
  },
  {
   "cell_type": "code",
   "execution_count": 4,
   "metadata": {
    "scrolled": true
   },
   "outputs": [],
   "source": [
    "raw_data['id'] = raw_data['id'].astype(str)\n",
    "raw_data['from_port'] = raw_data['from_port'].astype(str)\n",
    "raw_data['to_port'] = raw_data['to_port'].astype(str)"
   ]
  },
  {
   "cell_type": "code",
   "execution_count": 5,
   "metadata": {},
   "outputs": [
    {
     "name": "stdout",
     "output_type": "stream",
     "text": [
      "<class 'pandas.core.frame.DataFrame'>\n",
      "RangeIndex: 728 entries, 0 to 727\n",
      "Data columns (total 8 columns):\n",
      " #   Column        Non-Null Count  Dtype \n",
      "---  ------        --------------  ----- \n",
      " 0   id            728 non-null    object\n",
      " 1   from_seq      728 non-null    int64 \n",
      " 2   to_seq        728 non-null    int64 \n",
      " 3   from_port     728 non-null    object\n",
      " 4   to_port       728 non-null    object\n",
      " 5   leg_duration  728 non-null    int64 \n",
      " 6   count         728 non-null    int64 \n",
      " 7   points        728 non-null    object\n",
      "dtypes: int64(4), object(4)\n",
      "memory usage: 45.6+ KB\n"
     ]
    }
   ],
   "source": [
    "raw_data.info()"
   ]
  },
  {
   "cell_type": "code",
   "execution_count": 6,
   "metadata": {},
   "outputs": [],
   "source": [
    "#Create a new frame from flatten points list\n",
    "\n",
    "debrv_deham = raw_data[raw_data.from_port.str.contains(\"DEBRV\")]\n",
    "\n",
    "data_list = list()\n",
    "for row in debrv_deham.itertuples(index=False):\n",
    "    parsed_list = json.loads(row.points)\n",
    "    for item in parsed_list:\n",
    "        item.append(row.id)\n",
    "    data_list += parsed_list"
   ]
  },
  {
   "cell_type": "code",
   "execution_count": 7,
   "metadata": {},
   "outputs": [
    {
     "data": {
      "text/html": [
       "<div>\n",
       "<style scoped>\n",
       "    .dataframe tbody tr th:only-of-type {\n",
       "        vertical-align: middle;\n",
       "    }\n",
       "\n",
       "    .dataframe tbody tr th {\n",
       "        vertical-align: top;\n",
       "    }\n",
       "\n",
       "    .dataframe thead th {\n",
       "        text-align: right;\n",
       "    }\n",
       "</style>\n",
       "<table border=\"1\" class=\"dataframe\">\n",
       "  <thead>\n",
       "    <tr style=\"text-align: right;\">\n",
       "      <th></th>\n",
       "      <th>id</th>\n",
       "      <th>from_seq</th>\n",
       "      <th>to_seq</th>\n",
       "      <th>from_port</th>\n",
       "      <th>to_port</th>\n",
       "      <th>leg_duration</th>\n",
       "      <th>count</th>\n",
       "      <th>points</th>\n",
       "    </tr>\n",
       "  </thead>\n",
       "  <tbody>\n",
       "    <tr>\n",
       "      <th>0</th>\n",
       "      <td>imo_9462794</td>\n",
       "      <td>127</td>\n",
       "      <td>128</td>\n",
       "      <td>DEBRV</td>\n",
       "      <td>DEHAM</td>\n",
       "      <td>36406308</td>\n",
       "      <td>135</td>\n",
       "      <td>[[8.489074, 53.615707, 1509423228430, 14.0], [...</td>\n",
       "    </tr>\n",
       "    <tr>\n",
       "      <th>1</th>\n",
       "      <td>imo_9454230</td>\n",
       "      <td>196</td>\n",
       "      <td>197</td>\n",
       "      <td>DEBRV</td>\n",
       "      <td>DEHAM</td>\n",
       "      <td>37389167</td>\n",
       "      <td>155</td>\n",
       "      <td>[[8.48967, 53.614338, 1507290057531, 12.5], [8...</td>\n",
       "    </tr>\n",
       "    <tr>\n",
       "      <th>2</th>\n",
       "      <td>imo_9454230</td>\n",
       "      <td>241</td>\n",
       "      <td>242</td>\n",
       "      <td>DEBRV</td>\n",
       "      <td>DEHAM</td>\n",
       "      <td>35623991</td>\n",
       "      <td>196</td>\n",
       "      <td>[[8.499015, 53.60522, 1509682757817, 15.9], [8...</td>\n",
       "    </tr>\n",
       "    <tr>\n",
       "      <th>3</th>\n",
       "      <td>imo_9372200</td>\n",
       "      <td>150</td>\n",
       "      <td>151</td>\n",
       "      <td>DEBRV</td>\n",
       "      <td>DEHAM</td>\n",
       "      <td>34345681</td>\n",
       "      <td>156</td>\n",
       "      <td>[[8.495334, 53.609833, 1511932247447, 11.2], [...</td>\n",
       "    </tr>\n",
       "    <tr>\n",
       "      <th>6</th>\n",
       "      <td>imo_9297591</td>\n",
       "      <td>118</td>\n",
       "      <td>119</td>\n",
       "      <td>DEBRV</td>\n",
       "      <td>DEHAM</td>\n",
       "      <td>42196071</td>\n",
       "      <td>223</td>\n",
       "      <td>[[8.488343, 53.61487, 1506326663060, 17.8], [8...</td>\n",
       "    </tr>\n",
       "  </tbody>\n",
       "</table>\n",
       "</div>"
      ],
      "text/plain": [
       "            id  from_seq  to_seq from_port to_port  leg_duration  count  \\\n",
       "0  imo_9462794       127     128     DEBRV   DEHAM      36406308    135   \n",
       "1  imo_9454230       196     197     DEBRV   DEHAM      37389167    155   \n",
       "2  imo_9454230       241     242     DEBRV   DEHAM      35623991    196   \n",
       "3  imo_9372200       150     151     DEBRV   DEHAM      34345681    156   \n",
       "6  imo_9297591       118     119     DEBRV   DEHAM      42196071    223   \n",
       "\n",
       "                                              points  \n",
       "0  [[8.489074, 53.615707, 1509423228430, 14.0], [...  \n",
       "1  [[8.48967, 53.614338, 1507290057531, 12.5], [8...  \n",
       "2  [[8.499015, 53.60522, 1509682757817, 15.9], [8...  \n",
       "3  [[8.495334, 53.609833, 1511932247447, 11.2], [...  \n",
       "6  [[8.488343, 53.61487, 1506326663060, 17.8], [8...  "
      ]
     },
     "execution_count": 7,
     "metadata": {},
     "output_type": "execute_result"
    }
   ],
   "source": [
    "\n",
    "debrv_deham.head()"
   ]
  },
  {
   "cell_type": "code",
   "execution_count": 8,
   "metadata": {},
   "outputs": [],
   "source": [
    "df = pd.DataFrame(data_list, columns=['longitude', 'latitude', 'timestamp', 'speed', 'vessel_id'])"
   ]
  },
  {
   "cell_type": "code",
   "execution_count": 9,
   "metadata": {},
   "outputs": [
    {
     "name": "stdout",
     "output_type": "stream",
     "text": [
      "<class 'pandas.core.frame.DataFrame'>\n",
      "RangeIndex: 81359 entries, 0 to 81358\n",
      "Data columns (total 5 columns):\n",
      " #   Column     Non-Null Count  Dtype  \n",
      "---  ------     --------------  -----  \n",
      " 0   longitude  81359 non-null  float64\n",
      " 1   latitude   81359 non-null  float64\n",
      " 2   timestamp  81359 non-null  int64  \n",
      " 3   speed      81331 non-null  float64\n",
      " 4   vessel_id  81359 non-null  object \n",
      "dtypes: float64(3), int64(1), object(1)\n",
      "memory usage: 3.1+ MB\n"
     ]
    }
   ],
   "source": [
    "df.info()"
   ]
  },
  {
   "cell_type": "code",
   "execution_count": 10,
   "metadata": {},
   "outputs": [
    {
     "data": {
      "text/html": [
       "<div>\n",
       "<style scoped>\n",
       "    .dataframe tbody tr th:only-of-type {\n",
       "        vertical-align: middle;\n",
       "    }\n",
       "\n",
       "    .dataframe tbody tr th {\n",
       "        vertical-align: top;\n",
       "    }\n",
       "\n",
       "    .dataframe thead th {\n",
       "        text-align: right;\n",
       "    }\n",
       "</style>\n",
       "<table border=\"1\" class=\"dataframe\">\n",
       "  <thead>\n",
       "    <tr style=\"text-align: right;\">\n",
       "      <th></th>\n",
       "      <th>longitude</th>\n",
       "      <th>latitude</th>\n",
       "      <th>timestamp</th>\n",
       "      <th>speed</th>\n",
       "      <th>vessel_id</th>\n",
       "    </tr>\n",
       "  </thead>\n",
       "  <tbody>\n",
       "    <tr>\n",
       "      <th>0</th>\n",
       "      <td>8.489074</td>\n",
       "      <td>53.615707</td>\n",
       "      <td>1509423228430</td>\n",
       "      <td>14.0</td>\n",
       "      <td>imo_9462794</td>\n",
       "    </tr>\n",
       "    <tr>\n",
       "      <th>1</th>\n",
       "      <td>8.476499</td>\n",
       "      <td>53.621193</td>\n",
       "      <td>1509423365984</td>\n",
       "      <td>14.8</td>\n",
       "      <td>imo_9462794</td>\n",
       "    </tr>\n",
       "    <tr>\n",
       "      <th>2</th>\n",
       "      <td>8.463407</td>\n",
       "      <td>53.626442</td>\n",
       "      <td>1509423498599</td>\n",
       "      <td>15.8</td>\n",
       "      <td>imo_9462794</td>\n",
       "    </tr>\n",
       "    <tr>\n",
       "      <th>3</th>\n",
       "      <td>8.450949</td>\n",
       "      <td>53.631893</td>\n",
       "      <td>1509423624892</td>\n",
       "      <td>15.6</td>\n",
       "      <td>imo_9462794</td>\n",
       "    </tr>\n",
       "    <tr>\n",
       "      <th>4</th>\n",
       "      <td>8.438425</td>\n",
       "      <td>53.637140</td>\n",
       "      <td>1509423750263</td>\n",
       "      <td>15.7</td>\n",
       "      <td>imo_9462794</td>\n",
       "    </tr>\n",
       "  </tbody>\n",
       "</table>\n",
       "</div>"
      ],
      "text/plain": [
       "   longitude   latitude      timestamp  speed    vessel_id\n",
       "0   8.489074  53.615707  1509423228430   14.0  imo_9462794\n",
       "1   8.476499  53.621193  1509423365984   14.8  imo_9462794\n",
       "2   8.463407  53.626442  1509423498599   15.8  imo_9462794\n",
       "3   8.450949  53.631893  1509423624892   15.6  imo_9462794\n",
       "4   8.438425  53.637140  1509423750263   15.7  imo_9462794"
      ]
     },
     "execution_count": 10,
     "metadata": {},
     "output_type": "execute_result"
    }
   ],
   "source": [
    "df.head()"
   ]
  },
  {
   "cell_type": "code",
   "execution_count": 121,
   "metadata": {},
   "outputs": [
    {
     "data": {
      "text/plain": [
       "<seaborn.axisgrid.FacetGrid at 0x27b8b1cef70>"
      ]
     },
     "execution_count": 121,
     "metadata": {},
     "output_type": "execute_result"
    },
    {
     "data": {
      "image/png": "[encoded data removed]",
      "text/plain": [
       "<Figure size 360x360 with 1 Axes>"
      ]
     },
     "metadata": {
      "needs_background": "light"
     },
     "output_type": "display_data"
    }
   ],
   "source": [
    "sb.displot(df['longitude'])"
   ]
  },
  {
   "cell_type": "code",
   "execution_count": 122,
   "metadata": {},
   "outputs": [
    {
     "data": {
      "text/plain": [
       "<seaborn.axisgrid.FacetGrid at 0x27b8bdaa040>"
      ]
     },
     "execution_count": 122,
     "metadata": {},
     "output_type": "execute_result"
    },
    {
     "data": {
      "image/png": "[encoded data removed]",
      "text/plain": [
       "<Figure size 360x360 with 1 Axes>"
      ]
     },
     "metadata": {
      "needs_background": "light"
     },
     "output_type": "display_data"
    }
   ],
   "source": [
    "sb.displot(df['latitude'])"
   ]
  },
  {
   "cell_type": "code",
   "execution_count": 123,
   "metadata": {},
   "outputs": [
    {
     "data": {
      "text/plain": [
       "<seaborn.axisgrid.FacetGrid at 0x27b8a35b520>"
      ]
     },
     "execution_count": 123,
     "metadata": {},
     "output_type": "execute_result"
    },
    {
     "data": {
      "image/png": "[encoded data removed]",
      "text/plain": [
       "<Figure size 360x360 with 1 Axes>"
      ]
     },
     "metadata": {
      "needs_background": "light"
     },
     "output_type": "display_data"
    }
   ],
   "source": [
    "sb.displot(df['speed'])"
   ]
  },
  {
   "cell_type": "code",
   "execution_count": null,
   "metadata": {},
   "outputs": [],
   "source": []
  }
 ],
 "metadata": {
  "kernelspec": {
   "display_name": "Python 3",
   "language": "python",
   "name": "python3"
  },
  "language_info": {
   "codemirror_mode": {
    "name": "ipython",
    "version": 3
   },
   "file_extension": ".py",
   "mimetype": "text/x-python",
   "name": "python",
   "nbconvert_exporter": "python",
   "pygments_lexer": "ipython3",
   "version": "3.8.5"
  }
 },
 "nbformat": 4,
 "nbformat_minor": 4
}
