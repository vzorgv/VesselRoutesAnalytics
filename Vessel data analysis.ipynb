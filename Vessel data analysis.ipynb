{
 "cells": [
  {
   "cell_type": "code",
   "execution_count": 2,
   "metadata": {},
   "outputs": [],
   "source": [
    "import pandas as pd\n",
    "import json\n",
    "import seaborn as sns\n",
    "import numpy as np"
   ]
  },
  {
   "cell_type": "code",
   "execution_count": 8,
   "metadata": {},
   "outputs": [],
   "source": [
    "#KL Divergence как мера оценки полезности\n",
    "def kl_reducer(P_xz, P_xm):\n",
    "    with np.errstate(divide='ignore', invalid='ignore'):\n",
    "        non_zero = np.sum(np.where(P_xm != 0, P_xz * np.log(P_xz / P_xm), 0))\n",
    "    \n",
    "    zeroed = np.sum(np.where(P_xm == 0, P_xz * -np.log(P_xz), 0))\n",
    "    \n",
    "    return non_zero + zeroed"
   ]
  },
  {
   "cell_type": "code",
   "execution_count": 14,
   "metadata": {},
   "outputs": [
    {
     "name": "stdout",
     "output_type": "stream",
     "text": [
      "0.020410997260127586\n"
     ]
    }
   ],
   "source": [
    "x1 = np.array([0.5, 0.5])\n",
    "x2 = np.array([0.6, 0.4])\n",
    "\n",
    "print(kl_reducer(x1, x2))"
   ]
  },
  {
   "cell_type": "markdown",
   "metadata": {},
   "source": [
    "### Load data"
   ]
  },
  {
   "cell_type": "code",
   "execution_count": 4,
   "metadata": {},
   "outputs": [],
   "source": [
    "file_name = \"DEBRV_DEHAM_historical_routes.csv\""
   ]
  },
  {
   "cell_type": "code",
   "execution_count": 5,
   "metadata": {},
   "outputs": [
    {
     "data": {
      "text/html": [
       "<div>\n",
       "<style scoped>\n",
       "    .dataframe tbody tr th:only-of-type {\n",
       "        vertical-align: middle;\n",
       "    }\n",
       "\n",
       "    .dataframe tbody tr th {\n",
       "        vertical-align: top;\n",
       "    }\n",
       "\n",
       "    .dataframe thead th {\n",
       "        text-align: right;\n",
       "    }\n",
       "</style>\n",
       "<table border=\"1\" class=\"dataframe\">\n",
       "  <thead>\n",
       "    <tr style=\"text-align: right;\">\n",
       "      <th></th>\n",
       "      <th>id</th>\n",
       "      <th>from_seq</th>\n",
       "      <th>to_seq</th>\n",
       "      <th>from_port</th>\n",
       "      <th>to_port</th>\n",
       "      <th>leg_duration</th>\n",
       "      <th>count</th>\n",
       "      <th>points</th>\n",
       "    </tr>\n",
       "  </thead>\n",
       "  <tbody>\n",
       "    <tr>\n",
       "      <th>0</th>\n",
       "      <td>imo_9462794</td>\n",
       "      <td>127</td>\n",
       "      <td>128</td>\n",
       "      <td>DEBRV</td>\n",
       "      <td>DEHAM</td>\n",
       "      <td>36406308</td>\n",
       "      <td>135</td>\n",
       "      <td>[[8.489074, 53.615707, 1509423228430, 14.0], [...</td>\n",
       "    </tr>\n",
       "    <tr>\n",
       "      <th>1</th>\n",
       "      <td>imo_9454230</td>\n",
       "      <td>196</td>\n",
       "      <td>197</td>\n",
       "      <td>DEBRV</td>\n",
       "      <td>DEHAM</td>\n",
       "      <td>37389167</td>\n",
       "      <td>155</td>\n",
       "      <td>[[8.48967, 53.614338, 1507290057531, 12.5], [8...</td>\n",
       "    </tr>\n",
       "    <tr>\n",
       "      <th>2</th>\n",
       "      <td>imo_9454230</td>\n",
       "      <td>241</td>\n",
       "      <td>242</td>\n",
       "      <td>DEBRV</td>\n",
       "      <td>DEHAM</td>\n",
       "      <td>35623991</td>\n",
       "      <td>196</td>\n",
       "      <td>[[8.499015, 53.60522, 1509682757817, 15.9], [8...</td>\n",
       "    </tr>\n",
       "    <tr>\n",
       "      <th>3</th>\n",
       "      <td>imo_9372200</td>\n",
       "      <td>150</td>\n",
       "      <td>151</td>\n",
       "      <td>DEBRV</td>\n",
       "      <td>DEHAM</td>\n",
       "      <td>34345681</td>\n",
       "      <td>156</td>\n",
       "      <td>[[8.495334, 53.609833, 1511932247447, 11.2], [...</td>\n",
       "    </tr>\n",
       "    <tr>\n",
       "      <th>4</th>\n",
       "      <td>imo_9376048</td>\n",
       "      <td>116</td>\n",
       "      <td>117</td>\n",
       "      <td>DEHAM</td>\n",
       "      <td>DEBRV</td>\n",
       "      <td>32515761</td>\n",
       "      <td>189</td>\n",
       "      <td>[[9.915167, 53.542168, 1508734759773, 7.6], [9...</td>\n",
       "    </tr>\n",
       "  </tbody>\n",
       "</table>\n",
       "</div>"
      ],
      "text/plain": [
       "            id  from_seq  to_seq from_port to_port  leg_duration  count  \\\n",
       "0  imo_9462794       127     128     DEBRV   DEHAM      36406308    135   \n",
       "1  imo_9454230       196     197     DEBRV   DEHAM      37389167    155   \n",
       "2  imo_9454230       241     242     DEBRV   DEHAM      35623991    196   \n",
       "3  imo_9372200       150     151     DEBRV   DEHAM      34345681    156   \n",
       "4  imo_9376048       116     117     DEHAM   DEBRV      32515761    189   \n",
       "\n",
       "                                              points  \n",
       "0  [[8.489074, 53.615707, 1509423228430, 14.0], [...  \n",
       "1  [[8.48967, 53.614338, 1507290057531, 12.5], [8...  \n",
       "2  [[8.499015, 53.60522, 1509682757817, 15.9], [8...  \n",
       "3  [[8.495334, 53.609833, 1511932247447, 11.2], [...  \n",
       "4  [[9.915167, 53.542168, 1508734759773, 7.6], [9...  "
      ]
     },
     "execution_count": 5,
     "metadata": {},
     "output_type": "execute_result"
    }
   ],
   "source": [
    "raw_data = pd.read_csv(file_name)\n",
    "raw_data.head()"
   ]
  },
  {
   "cell_type": "code",
   "execution_count": 6,
   "metadata": {
    "scrolled": true
   },
   "outputs": [],
   "source": [
    "raw_data['id'] = raw_data['id'].astype(str)\n",
    "raw_data['from_port'] = raw_data['from_port'].astype(str)\n",
    "raw_data['to_port'] = raw_data['to_port'].astype(str)"
   ]
  },
  {
   "cell_type": "code",
   "execution_count": 7,
   "metadata": {},
   "outputs": [
    {
     "name": "stdout",
     "output_type": "stream",
     "text": [
      "<class 'pandas.core.frame.DataFrame'>\n",
      "RangeIndex: 728 entries, 0 to 727\n",
      "Data columns (total 8 columns):\n",
      " #   Column        Non-Null Count  Dtype \n",
      "---  ------        --------------  ----- \n",
      " 0   id            728 non-null    object\n",
      " 1   from_seq      728 non-null    int64 \n",
      " 2   to_seq        728 non-null    int64 \n",
      " 3   from_port     728 non-null    object\n",
      " 4   to_port       728 non-null    object\n",
      " 5   leg_duration  728 non-null    int64 \n",
      " 6   count         728 non-null    int64 \n",
      " 7   points        728 non-null    object\n",
      "dtypes: int64(4), object(4)\n",
      "memory usage: 45.6+ KB\n"
     ]
    }
   ],
   "source": [
    "raw_data.info()"
   ]
  },
  {
   "cell_type": "markdown",
   "metadata": {},
   "source": [
    "#### Create a new frame from flatten points list"
   ]
  },
  {
   "cell_type": "code",
   "execution_count": 8,
   "metadata": {},
   "outputs": [],
   "source": [
    "debrv_deham = raw_data[raw_data.from_port.str.contains(\"DEBRV\")]\n",
    "\n",
    "data_list = list()\n",
    "for row in debrv_deham.itertuples(index=False):\n",
    "    parsed_list = json.loads(row.points)\n",
    "    for item in parsed_list:\n",
    "        item.append(row.id)\n",
    "    data_list += parsed_list\n",
    "    \n",
    "    df = pd.DataFrame(data_list, columns=['longitude', 'latitude', 'timestamp', 'speed', 'vessel_id'])\n",
    "    df.head()"
   ]
  },
  {
   "cell_type": "code",
   "execution_count": 20,
   "metadata": {},
   "outputs": [
    {
     "data": {
      "image/png": "[encoded data removed]",
      "text/plain": [
       "<Figure size 360x360 with 1 Axes>"
      ]
     },
     "metadata": {
      "needs_background": "light"
     },
     "output_type": "display_data"
    }
   ],
   "source": [
    "sns.displot(df, x='longitude', bins=20);"
   ]
  },
  {
   "cell_type": "code",
   "execution_count": 22,
   "metadata": {},
   "outputs": [
    {
     "data": {
      "image/png": "[encoded data removed]",
      "text/plain": [
       "<Figure size 360x360 with 1 Axes>"
      ]
     },
     "metadata": {
      "needs_background": "light"
     },
     "output_type": "display_data"
    }
   ],
   "source": [
    "sns.displot(df, x='latitude', bins=20);"
   ]
  },
  {
   "cell_type": "markdown",
   "metadata": {},
   "source": [
    "### Find average coordinates of start point"
   ]
  },
  {
   "cell_type": "code",
   "execution_count": 7,
   "metadata": {},
   "outputs": [
    {
     "data": {
      "text/html": [
       "<div>\n",
       "<style scoped>\n",
       "    .dataframe tbody tr th:only-of-type {\n",
       "        vertical-align: middle;\n",
       "    }\n",
       "\n",
       "    .dataframe tbody tr th {\n",
       "        vertical-align: top;\n",
       "    }\n",
       "\n",
       "    .dataframe thead th {\n",
       "        text-align: right;\n",
       "    }\n",
       "</style>\n",
       "<table border=\"1\" class=\"dataframe\">\n",
       "  <thead>\n",
       "    <tr style=\"text-align: right;\">\n",
       "      <th></th>\n",
       "      <th>longitude</th>\n",
       "      <th>latitude</th>\n",
       "      <th>timestamp</th>\n",
       "      <th>speed</th>\n",
       "      <th>vessel_id</th>\n",
       "    </tr>\n",
       "  </thead>\n",
       "  <tbody>\n",
       "    <tr>\n",
       "      <th>49225</th>\n",
       "      <td>8.494617</td>\n",
       "      <td>53.611600</td>\n",
       "      <td>1503574511178</td>\n",
       "      <td>5.8</td>\n",
       "      <td>imo_8104565</td>\n",
       "    </tr>\n",
       "    <tr>\n",
       "      <th>72231</th>\n",
       "      <td>8.549000</td>\n",
       "      <td>53.559500</td>\n",
       "      <td>1510365897231</td>\n",
       "      <td>0.1</td>\n",
       "      <td>imo_9075709</td>\n",
       "    </tr>\n",
       "    <tr>\n",
       "      <th>27934</th>\n",
       "      <td>8.490873</td>\n",
       "      <td>53.613102</td>\n",
       "      <td>1497396499130</td>\n",
       "      <td>10.8</td>\n",
       "      <td>imo_9108130</td>\n",
       "    </tr>\n",
       "    <tr>\n",
       "      <th>38252</th>\n",
       "      <td>8.484507</td>\n",
       "      <td>53.616596</td>\n",
       "      <td>1504528012410</td>\n",
       "      <td>14.6</td>\n",
       "      <td>imo_9110377</td>\n",
       "    </tr>\n",
       "    <tr>\n",
       "      <th>27729</th>\n",
       "      <td>8.484950</td>\n",
       "      <td>53.616673</td>\n",
       "      <td>1498131807357</td>\n",
       "      <td>14.4</td>\n",
       "      <td>imo_9110389</td>\n",
       "    </tr>\n",
       "  </tbody>\n",
       "</table>\n",
       "</div>"
      ],
      "text/plain": [
       "       longitude   latitude      timestamp  speed    vessel_id\n",
       "49225   8.494617  53.611600  1503574511178    5.8  imo_8104565\n",
       "72231   8.549000  53.559500  1510365897231    0.1  imo_9075709\n",
       "27934   8.490873  53.613102  1497396499130   10.8  imo_9108130\n",
       "38252   8.484507  53.616596  1504528012410   14.6  imo_9110377\n",
       "27729   8.484950  53.616673  1498131807357   14.4  imo_9110389"
      ]
     },
     "execution_count": 7,
     "metadata": {},
     "output_type": "execute_result"
    }
   ],
   "source": [
    "first_timestamp_idx = df.groupby('vessel_id')['timestamp'].idxmin()\n",
    "df_1st = df.loc[first_timestamp_idx]\n",
    "df_1st.head()"
   ]
  },
  {
   "cell_type": "code",
   "execution_count": 8,
   "metadata": {
    "scrolled": true
   },
   "outputs": [
    {
     "data": {
      "image/png": "[encoded data removed]",
      "text/plain": [
       "<Figure size 432x432 with 3 Axes>"
      ]
     },
     "metadata": {
      "needs_background": "light"
     },
     "output_type": "display_data"
    }
   ],
   "source": [
    "sns.jointplot(data=df_1st, y=\"latitude\", x=\"longitude\");"
   ]
  },
  {
   "cell_type": "code",
   "execution_count": 9,
   "metadata": {},
   "outputs": [
    {
     "name": "stdout",
     "output_type": "stream",
     "text": [
      "longitude    8.490376e+00\n",
      "latitude     5.361317e+01\n",
      "timestamp    1.501168e+12\n",
      "speed        1.240000e+01\n",
      "dtype: float64\n"
     ]
    }
   ],
   "source": [
    "median_value = df_1st.median()\n",
    "print(median_value)"
   ]
  },
  {
   "cell_type": "code",
   "execution_count": 10,
   "metadata": {},
   "outputs": [],
   "source": [
    "median_longitude = median_value.longitude\n",
    "median_latitude = median_value.latitude"
   ]
  },
  {
   "cell_type": "code",
   "execution_count": null,
   "metadata": {},
   "outputs": [],
   "source": []
  }
 ],
 "metadata": {
  "kernelspec": {
   "display_name": "Python 3",
   "language": "python",
   "name": "python3"
  },
  "language_info": {
   "codemirror_mode": {
    "name": "ipython",
    "version": 3
   },
   "file_extension": ".py",
   "mimetype": "text/x-python",
   "name": "python",
   "nbconvert_exporter": "python",
   "pygments_lexer": "ipython3",
   "version": "3.8.5"
  }
 },
 "nbformat": 4,
 "nbformat_minor": 4
}
